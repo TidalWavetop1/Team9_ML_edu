{
 "cells": [
  {
   "cell_type": "code",
   "execution_count": null,
   "id": "56e852bf-6e51-484c-8aa6-e11ea45d0194",
   "metadata": {},
   "outputs": [],
   "source": [
    "import numpy as np\n",
    "import pandas as pd\n",
    "import matplotlib.pyplot as plt\n",
    "import seaborn as sns\n",
    "from sklearn.model_selection import train_test_split\n",
    "from sklearn.preprocessing import StandardScaler, LabelEncoder\n",
    "from sklearn.naive_bayes import GaussianNB # <--- QUAN TRỌNG: Import Gaussian Naive Bayes\n",
    "from sklearn.metrics import accuracy_score, classification_report, confusion_matrix\n",
    "import warnings\n",
    "\n",
    "# Tắt các cảnh báo không quan trọng\n",
    "warnings.filterwarnings('ignore')\n",
    "\n",
    "# Cài đặt để Matplotlib hiển thị biểu đồ ngay trong notebook\n",
    "%matplotlib inline"
   ]
  },
  {
   "cell_type": "code",
   "execution_count": null,
   "id": "3d481db4-f57f-425a-a644-0ffb81501da0",
   "metadata": {},
   "outputs": [],
   "source": [
    "# --- Bước 1: Tải và Khám phá Dữ liệu ---\n",
    "print(\"--- Bước 1: Tải và Khám phá Dữ liệu ---\")\n",
    "try:\n",
    "    data = pd.read_csv('Customer_Behaviour.csv')\n",
    "    print(\"Tải dữ liệu 'Customer_Behaviour.csv' thành công!\")\n",
    "    \n",
    "    print(\"\\n5 dòng dữ liệu đầu tiên:\")\n",
    "    display(data.head())\n",
    "    \n",
    "    print(\"\\nThông tin chung về dữ liệu:\")\n",
    "    data.info()\n",
    "    \n",
    "except FileNotFoundError:\n",
    "    print(\"Lỗi: Không tìm thấy tệp 'Customer_Behaviour.csv'.\")"
   ]
  },
  {
   "cell_type": "code",
   "execution_count": null,
   "id": "b6e497b2-ec90-454a-9178-93d66be509cf",
   "metadata": {},
   "outputs": [],
   "source": [
    "# --- Bước 2: Tiền xử lý dữ liệu ---\n",
    "print(\"--- Bước 2: Bắt đầu Tiền xử lý dữ liệu ---\")\n",
    "\n",
    "# Sao chép dữ liệu để xử lý\n",
    "data_processed = data.copy()\n",
    "\n",
    "# 1. Mã hóa biến 'Gender'\n",
    "# Sử dụng LabelEncoder để chuyển 'Male' -> 1, 'Female' -> 0\n",
    "encoder = LabelEncoder()\n",
    "data_processed['Gender'] = encoder.fit_transform(data_processed['Gender'])\n",
    "print(\"Đã mã hóa cột 'Gender' (ví dụ: Male=1, Female=0).\")\n",
    "\n",
    "# 2. Loại bỏ cột không cần thiết\n",
    "# 'User ID' không phải là đặc trưng dự đoán\n",
    "data_processed = data_processed.drop('User ID', axis=1)\n",
    "print(\"Đã loại bỏ cột 'User ID'.\")\n",
    "\n",
    "print(\"\\nDữ liệu sau khi tiền xử lý (5 dòng đầu):\")\n",
    "display(data_processed.head())"
   ]
  },
  {
   "cell_type": "code",
   "execution_count": null,
   "id": "86a93046-d191-47f0-83c0-8377778dcef4",
   "metadata": {},
   "outputs": [],
   "source": [
    "# --- Bước 3: Chuẩn bị dữ liệu (Train/Test Split) ---\n",
    "print(\"\\n--- Bước 3: Chuẩn bị dữ liệu (Train/Test Split) ---\")\n",
    "\n",
    "# Tách X (đặc trưng) và y (mục tiêu)\n",
    "X = data_processed.drop('Purchased', axis=1)\n",
    "y = data_processed['Purchased']\n",
    "\n",
    "# Chia dữ liệu (80% train, 20% test)\n",
    "# (Giống Nhiệm vụ 1, bước 2 trong tài liệu)\n",
    "X_train, X_test, y_train, y_test = train_test_split(X, y, test_size=0.2, random_state=42)\n",
    "\n",
    "print(f\"Kích thước tập huấn luyện (X_train): {X_train.shape}\")\n",
    "print(f\"Kích thước tập kiểm tra (X_test): {X_test.shape}\")"
   ]
  },
  {
   "cell_type": "code",
   "execution_count": null,
   "id": "18cc826d-7b33-4e9f-b242-888e11c4fdcd",
   "metadata": {},
   "outputs": [],
   "source": [
    "# --- Bước 4: Chuẩn hóa dữ liệu (Scaling) ---\n",
    "# GaussianNB giả định dữ liệu tuân theo phân phối Gaussian (chuẩn).\n",
    "# Việc chuẩn hóa 'Age' và 'EstimatedSalary' là cần thiết.\n",
    "print(\"\\n--- Bước 4: Chuẩn hóa dữ liệu ---\")\n",
    "\n",
    "scaler = StandardScaler()\n",
    "\n",
    "# Fit scaler CHỈ trên X_train\n",
    "scaler.fit(X_train)\n",
    "\n",
    "# Transform cả X_train và X_test\n",
    "X_train_scaled = scaler.transform(X_train)\n",
    "X_test_scaled = scaler.transform(X_test)\n",
    "\n",
    "print(\"Đã chuẩn hóa dữ liệu train và test.\")\n",
    "print(\"Dữ liệu X_train sau khi chuẩn hóa (5 dòng đầu):\")\n",
    "print(pd.DataFrame(X_train_scaled, columns=X_train.columns).head())"
   ]
  },
  {
   "cell_type": "code",
   "execution_count": null,
   "id": "06434e0d-f993-4253-93e4-78eef98a299f",
   "metadata": {},
   "outputs": [],
   "source": [
    "# --- Bước 5: Xây dựng và Huấn luyện mô hình Naive Bayes ---\n",
    "print(\"\\n--- Bước 5: Xây dựng và Huấn luyện mô hình ---\")\n",
    "\n",
    "# 1. Khởi tạo mô hình Gaussian Naive Bayes\n",
    "# (Giống Nhiệm vụ 1, bước 4 trong tài liệu)\n",
    "classifier = GaussianNB()\n",
    "\n",
    "print(\"Đang huấn luyện mô hình GaussianNB...\")\n",
    "# 2. Huấn luyện mô hình trên dữ liệu đã chuẩn hóa\n",
    "classifier.fit(X_train_scaled, y_train)\n",
    "\n",
    "print(\"Huấn luyện hoàn tất.\")"
   ]
  },
  {
   "cell_type": "code",
   "execution_count": null,
   "id": "b39ba5a8-fbbe-4083-85b7-326e6828b74c",
   "metadata": {},
   "outputs": [],
   "source": [
    "# --- Bước 6: Đánh giá mô hình Naive Bayes ---\n",
    "print(\"\\n--- Bước 6: Đánh giá mô hình trên tập Test ---\")\n",
    "\n",
    "# 1. Dự đoán trên tập X_test đã chuẩn hóa\n",
    "# (Giống Nhiệm vụ 1, bước 5 trong tài liệu)\n",
    "y_pred = classifier.predict(X_test_scaled)\n",
    "\n",
    "# 2. Đánh giá Accuracy\n",
    "accuracy = accuracy_score(y_test, y_pred)\n",
    "print(f\"Accuracy: {accuracy:.4f}\")\n",
    "\n",
    "# 3. In Báo cáo phân loại (Classification Report)\n",
    "# (Giống Hình 2.7 trong tài liệu)\n",
    "print(\"\\nBáo cáo phân loại (Classification Report):\")\n",
    "print(classification_report(y_test, y_pred, target_names=['Not Purchased (0)', 'Purchased (1)']))\n",
    "\n",
    "# 4. Vẽ Ma trận nhầm lẫn (Confusion Matrix)\n",
    "# (Giống Hình 2.5)\n",
    "print(\"\\nMa trận nhầm lẫn (Confusion Matrix):\")\n",
    "cm = confusion_matrix(y_test, y_pred)\n",
    "sns.heatmap(cm, annot=True, fmt='d', cmap='YlGnBu', \n",
    "            xticklabels=['Not Purchased', 'Purchased'], \n",
    "            yticklabels=['Not Purchased', 'Purchased'])\n",
    "plt.xlabel('Predicted')\n",
    "plt.ylabel('Actual')\n",
    "plt.title('Naive Bayes Confusion Matrix')\n",
    "plt.show()"
   ]
  }
 ],
 "metadata": {
  "kernelspec": {
   "display_name": "Python [conda env:base] *",
   "language": "python",
   "name": "conda-base-py"
  },
  "language_info": {
   "codemirror_mode": {
    "name": "ipython",
    "version": 3
   },
   "file_extension": ".py",
   "mimetype": "text/x-python",
   "name": "python",
   "nbconvert_exporter": "python",
   "pygments_lexer": "ipython3",
   "version": "3.12.7"
  }
 },
 "nbformat": 4,
 "nbformat_minor": 5
}
