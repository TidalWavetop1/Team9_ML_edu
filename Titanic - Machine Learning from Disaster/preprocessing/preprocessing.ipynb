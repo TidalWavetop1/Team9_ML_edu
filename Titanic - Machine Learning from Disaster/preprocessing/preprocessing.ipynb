{
 "cells": [
  {
   "cell_type": "markdown",
   "id": "39bb3bff",
   "metadata": {},
   "source": [
    "# Step 0: Import thư viện cần thiết"
   ]
  },
  {
   "cell_type": "code",
   "execution_count": 1,
   "id": "19a59c4f",
   "metadata": {},
   "outputs": [],
   "source": [
    "import pandas as pd\n",
    "import numpy as np\n",
    "from sklearn.preprocessing import StandardScaler"
   ]
  },
  {
   "cell_type": "markdown",
   "id": "03f3d570",
   "metadata": {},
   "source": [
    "# =================================================================\n",
    "# Step 1: ĐỌC VÀ HỢP NHẤT DỮ LIỆU THÔ (Bắt buộc)\n",
    "# =================================================================\n",
    "# Đọc lại dữ liệu thô (để đảm bảo tính minh bạch, độc lập)"
   ]
  },
  {
   "cell_type": "code",
   "execution_count": 2,
   "id": "276bd377",
   "metadata": {},
   "outputs": [],
   "source": [
    "try:\n",
    "    # Giả sử file train.csv và test.csv nằm cùng thư mục với notebook\n",
    "    train_df = pd.read_csv('../data/train.csv')\n",
    "    test_df = pd.read_csv('../data/test.csv')\n",
    "except FileNotFoundError:\n",
    "    print(\"Lỗi: Không tìm thấy file CSV. Hãy đảm bảo chúng ở đúng vị trí.\")\n",
    "\n",
    "Y_train = train_df['Survived']\n",
    "train_df = train_df.drop('Survived', axis=1)\n",
    "data = pd.concat([train_df, test_df], ignore_index=True)"
   ]
  },
  {
   "cell_type": "markdown",
   "id": "7f805e18",
   "metadata": {},
   "source": [
    "# =================================================================\n",
    "# BƯỚC 2: KỸ THUẬT ĐẶC TRƯNG VÀ XỬ LÝ THIẾU GIÁ TRỊ (Logic từ EDA)\n",
    "# ================================================================="
   ]
  },
  {
   "cell_type": "markdown",
   "id": "a8b05b03",
   "metadata": {},
   "source": [
    "# 2.1. Trích xuất và Gom nhóm Title (Tận dụng phân tích Name)"
   ]
  },
  {
   "cell_type": "code",
   "execution_count": null,
   "id": "eb39ca2f",
   "metadata": {},
   "outputs": [
    {
     "name": "stderr",
     "output_type": "stream",
     "text": [
      "<>:1: SyntaxWarning: invalid escape sequence '\\.'\n",
      "<>:1: SyntaxWarning: invalid escape sequence '\\.'\n",
      "C:\\Users\\pikal\\AppData\\Local\\Temp\\ipykernel_17960\\1602724743.py:1: SyntaxWarning: invalid escape sequence '\\.'\n",
      "  data['Title'] = data['Name'].str.extract(' ([A-Za-z]+)\\.', expand=False)\n"
     ]
    }
   ],
   "source": [
    "data['Title'] = data['Name'].str.extract(' ([A-Za-z]+)\\.', expand=False)\n",
    "title_replacements = {\n",
    "    'Mlle': 'Miss', 'Ms': 'Miss', 'Mme': 'Mrs',\n",
    "    'Lady': 'Royalty', 'Countess': 'Royalty', 'Dona': 'Royalty',\n",
    "    'Capt': 'Military', 'Col': 'Military', 'Major': 'Military', 'Dr': 'Rare',\n",
    "    'Rev': 'Rare', 'Don': 'Rare', 'Sir': 'Royalty', 'Jonkheer': 'Rare'\n",
    "}\n",
    "data['Title'] = data['Title'].replace(title_replacements)\n",
    "# Tách lại dữ liệu (tạo copy để tránh SettingWithCopyWarning)\n",
    "train_processed = data.iloc[:len(Y_train), :].copy()\n",
    "test_processed = data.iloc[len(Y_train):, :].copy()\n",
    "train_processed['Survived'] = Y_train.values"
   ]
  },
  {
   "cell_type": "markdown",
   "id": "54059875",
   "metadata": {},
   "source": [
    "# 2.2. Điền Age CÓ NGỮ CẢNH (Tận dụng phân tích Title)"
   ]
  },
  {
   "cell_type": "code",
   "execution_count": 4,
   "id": "8af21fa3",
   "metadata": {},
   "outputs": [],
   "source": [
    "# Điền Age: Dùng Trung vị (Median) của Title tương ứng\n",
    "data['Age'] = data.groupby('Title')['Age'].transform(lambda x: x.fillna(x.median()))"
   ]
  },
  {
   "cell_type": "markdown",
   "id": "3b3d22d3",
   "metadata": {},
   "source": [
    "# 2.3. Tạo Family Size và Is Alone"
   ]
  },
  {
   "cell_type": "code",
   "execution_count": 5,
   "id": "cc7a101d",
   "metadata": {},
   "outputs": [],
   "source": [
    "data['FamilySize'] = data['SibSp'] + data['Parch'] + 1\n",
    "data['IsAlone'] = (data['FamilySize'] == 1).astype(int)"
   ]
  },
  {
   "cell_type": "markdown",
   "id": "5e947693",
   "metadata": {},
   "source": [
    "# 2.4. Trích xuất Deck (Tận dụng phân tích Cabin)"
   ]
  },
  {
   "cell_type": "code",
   "execution_count": 6,
   "id": "61acaf65",
   "metadata": {},
   "outputs": [],
   "source": [
    "data['Deck'] = data['Cabin'].apply(lambda x: x[0] if pd.notna(x) else 'U')"
   ]
  },
  {
   "cell_type": "markdown",
   "id": "ef2ced8b",
   "metadata": {},
   "source": [
    "# 2.5. Xử lý thiếu giá trị còn lại (Embarked, Fare)"
   ]
  },
  {
   "cell_type": "code",
   "execution_count": 7,
   "id": "588a72ae",
   "metadata": {},
   "outputs": [],
   "source": [
    "data['Embarked'] = data['Embarked'].fillna(data['Embarked'].mode()[0])\n",
    "data['Fare'] = data['Fare'].fillna(data[data['Pclass'] == 3]['Fare'].median())"
   ]
  },
  {
   "cell_type": "markdown",
   "id": "0b68f950",
   "metadata": {},
   "source": [
    "# =================================================================\n",
    "# BƯỚC 3: MÃ HÓA VÀ CHUẨN HÓA (Tối ưu cho KNN và SVM)\n",
    "# ================================================================="
   ]
  },
  {
   "cell_type": "markdown",
   "id": "bda52c82",
   "metadata": {},
   "source": [
    "# 3.1. Loại bỏ các Cột không cần thiết"
   ]
  },
  {
   "cell_type": "code",
   "execution_count": 8,
   "id": "ef2a21d0",
   "metadata": {},
   "outputs": [],
   "source": [
    "data = data.drop(['Name', 'Ticket', 'Cabin', 'SibSp', 'Parch'], axis=1)"
   ]
  },
  {
   "cell_type": "markdown",
   "id": "a871aad1",
   "metadata": {},
   "source": [
    "# 3.2. Mã hóa One-Hot Encoding"
   ]
  },
  {
   "cell_type": "code",
   "execution_count": 9,
   "id": "8e3d7760",
   "metadata": {},
   "outputs": [],
   "source": [
    "data['Pclass'] = data['Pclass'].astype('category') \n",
    "categorical_features = ['Sex', 'Embarked', 'Pclass', 'Title', 'Deck']\n",
    "data = pd.get_dummies(data, columns=categorical_features, drop_first=True)"
   ]
  },
  {
   "cell_type": "markdown",
   "id": "b09e455f",
   "metadata": {},
   "source": [
    "# 3.3. Chuẩn hóa Đặc trưng Số (Rất quan trọng cho KNN và SVM)"
   ]
  },
  {
   "cell_type": "code",
   "execution_count": 10,
   "id": "809a5dcd",
   "metadata": {},
   "outputs": [],
   "source": [
    "scaler = StandardScaler()\n",
    "numerical_cols = ['Age', 'Fare']\n",
    "data[numerical_cols] = scaler.fit_transform(data[numerical_cols])"
   ]
  },
  {
   "cell_type": "markdown",
   "id": "130e08df",
   "metadata": {},
   "source": [
    "# =================================================================\n",
    "# BƯỚC 4: TÁCH VÀ LƯU FILE OUTPUT TỐI ƯU\n",
    "# ================================================================="
   ]
  },
  {
   "cell_type": "code",
   "execution_count": 11,
   "id": "ec707d80",
   "metadata": {},
   "outputs": [
    {
     "name": "stderr",
     "output_type": "stream",
     "text": [
      "C:\\Users\\pikal\\AppData\\Local\\Temp\\ipykernel_17960\\696499151.py:4: SettingWithCopyWarning: \n",
      "A value is trying to be set on a copy of a slice from a DataFrame.\n",
      "Try using .loc[row_indexer,col_indexer] = value instead\n",
      "\n",
      "See the caveats in the documentation: https://pandas.pydata.org/pandas-docs/stable/user_guide/indexing.html#returning-a-view-versus-a-copy\n",
      "  train_processed['Survived'] = Y_train.values\n"
     ]
    }
   ],
   "source": [
    "# Tách lại dữ liệu\n",
    "train_processed = data.iloc[:len(Y_train), :]\n",
    "test_processed = data.iloc[len(Y_train):, :]\n",
    "train_processed['Survived'] = Y_train.values"
   ]
  },
  {
   "cell_type": "markdown",
   "id": "13fcf7c7",
   "metadata": {},
   "source": [
    "# LƯU KẾT QUẢ CUỐI CÙNG (File Input cho các mô hình)"
   ]
  },
  {
   "cell_type": "code",
   "execution_count": 12,
   "id": "26473f09",
   "metadata": {},
   "outputs": [],
   "source": [
    "train_processed.to_csv('../data/titanic_FINAL_INPUT_train.csv', index=False)\n",
    "test_processed.to_csv('../data/titanic_FINAL_INPUT_test.csv', index=False)"
   ]
  },
  {
   "cell_type": "code",
   "execution_count": 13,
   "id": "f31748a1",
   "metadata": {},
   "outputs": [
    {
     "name": "stdout",
     "output_type": "stream",
     "text": [
      "✅ Quy trình Tiền xử lý Tối ưu (dựa trên EDA) đã hoàn tất và dữ liệu đã được lưu!\n",
      "Sử dụng các file 'titanic_FINAL_INPUT_...csv' cho bước huấn luyện mô hình tiếp theo.\n"
     ]
    }
   ],
   "source": [
    "print(\"✅ Quy trình Tiền xử lý Tối ưu (dựa trên EDA) đã hoàn tất và dữ liệu đã được lưu!\")\n",
    "print(\"Sử dụng các file 'titanic_FINAL_INPUT_...csv' cho bước huấn luyện mô hình tiếp theo.\")"
   ]
  }
 ],
 "metadata": {
  "kernelspec": {
   "display_name": "base",
   "language": "python",
   "name": "python3"
  },
  "language_info": {
   "codemirror_mode": {
    "name": "ipython",
    "version": 3
   },
   "file_extension": ".py",
   "mimetype": "text/x-python",
   "name": "python",
   "nbconvert_exporter": "python",
   "pygments_lexer": "ipython3",
   "version": "3.12.7"
  }
 },
 "nbformat": 4,
 "nbformat_minor": 5
}
